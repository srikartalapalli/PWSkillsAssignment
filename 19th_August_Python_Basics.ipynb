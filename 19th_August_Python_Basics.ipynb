{
 "cells": [
  {
   "cell_type": "code",
   "execution_count": null,
   "id": "9ef574ff-5948-41f0-818b-81c3eeaeafd5",
   "metadata": {},
   "outputs": [],
   "source": [
    "TOPIC : PYTHON BASICS VARIABLE"
   ]
  },
  {
   "cell_type": "code",
   "execution_count": null,
   "id": "06d9b245-8cef-43b1-9227-7b7be5b211dc",
   "metadata": {},
   "outputs": [],
   "source": [
    "1. Declare two variables, `x` and `y`, and assign them integer values.\n",
    "Swap the values of these variables without using any temporary\n",
    "variable."
   ]
  },
  {
   "cell_type": "code",
   "execution_count": 6,
   "id": "008e5b21-a831-4694-a868-1f4ce5b06b04",
   "metadata": {},
   "outputs": [
    {
     "name": "stdout",
     "output_type": "stream",
     "text": [
      "Values after swap:\n",
      "x = 109\n",
      "y = 71\n"
     ]
    }
   ],
   "source": [
    "x = 71\n",
    "y = 109\n",
    "x = x + y\n",
    "y = x - y\n",
    "x = x - y\n",
    "print(\"Values after swap:\")\n",
    "print(\"x =\", x)\n",
    "print(\"y =\", y)"
   ]
  },
  {
   "cell_type": "code",
   "execution_count": null,
   "id": "1a1ace96-f788-479a-864e-b4097e5eb020",
   "metadata": {},
   "outputs": [],
   "source": [
    "2. Create a program that calculates the area of a rectangle. Take the\n",
    "length and width as inputs from the user and store them in variables.\n",
    "Calculate and display the area."
   ]
  },
  {
   "cell_type": "code",
   "execution_count": 7,
   "id": "017369ab-bb40-40e7-b93d-866008f4eaa3",
   "metadata": {},
   "outputs": [
    {
     "name": "stdin",
     "output_type": "stream",
     "text": [
      "Enter the length of the rectangle : 71\n",
      "Enter the breadth of the rectangle : 109\n"
     ]
    },
    {
     "name": "stdout",
     "output_type": "stream",
     "text": [
      "The area of the rectangle is : 7739\n"
     ]
    }
   ],
   "source": [
    "l = int(input(\"Enter the length of the rectangle :\"))\n",
    "b = int(input(\"Enter the breadth of the rectangle :\"))\n",
    "area = l * b\n",
    "print(\"The area of the rectangle is :\", area)"
   ]
  },
  {
   "cell_type": "code",
   "execution_count": null,
   "id": "344793f6-860b-4a01-8bb4-c49f5a0f85bc",
   "metadata": {},
   "outputs": [],
   "source": [
    "3. Write a Python program that converts temperature from Celsius to\n",
    "Fahrenheit. Take the temperature in Celsius as input, store it in a\n",
    "variable, convert it to Fahrenheit, and display the result."
   ]
  },
  {
   "cell_type": "code",
   "execution_count": 10,
   "id": "19112faa-f4b3-448d-ac23-f3e492ad7d62",
   "metadata": {},
   "outputs": [
    {
     "name": "stdin",
     "output_type": "stream",
     "text": [
      "Enter the temperature in celsius : 71\n"
     ]
    },
    {
     "name": "stdout",
     "output_type": "stream",
     "text": [
      "You have entered the temperature in celsius as : 71\n",
      "The temperature in fahrenheit is : 159.8\n"
     ]
    }
   ],
   "source": [
    "celsius = int(input(\"Enter the temperature in celsius :\"))\n",
    "fahrenheit = (celsius * 9/5) + 32\n",
    "print(\"You have entered the temperature in celsius as :\", celsius)\n",
    "print(\"The temperature in fahrenheit is :\", fahrenheit)"
   ]
  },
  {
   "cell_type": "code",
   "execution_count": null,
   "id": "e3560685-7069-45c1-b84b-738b030da04e",
   "metadata": {},
   "outputs": [],
   "source": []
  },
  {
   "cell_type": "code",
   "execution_count": null,
   "id": "58f9a157-bc10-463c-822d-903618395e92",
   "metadata": {},
   "outputs": [],
   "source": []
  },
  {
   "cell_type": "code",
   "execution_count": null,
   "id": "9e798316-0bf7-4fd2-8ec2-91ebfaaa5930",
   "metadata": {},
   "outputs": [],
   "source": [
    "TOPIC : STRING BASED QUESTIONS"
   ]
  },
  {
   "cell_type": "code",
   "execution_count": null,
   "id": "e1432413-017d-421c-9573-6c85613fa2e3",
   "metadata": {},
   "outputs": [],
   "source": [
    "1. Write a Python program that takes a string as input and prints the\n",
    "length of the string."
   ]
  },
  {
   "cell_type": "code",
   "execution_count": 13,
   "id": "143e8f53-0dfa-4391-9b7a-aa5e87636b65",
   "metadata": {},
   "outputs": [
    {
     "name": "stdin",
     "output_type": "stream",
     "text": [
      "Enter a random word : ss1203\n"
     ]
    },
    {
     "data": {
      "text/plain": [
       "6"
      ]
     },
     "execution_count": 13,
     "metadata": {},
     "output_type": "execute_result"
    }
   ],
   "source": [
    "a = input(\"Enter a random word :\")\n",
    "len(a)"
   ]
  },
  {
   "cell_type": "code",
   "execution_count": null,
   "id": "0825d47f-a2c4-487e-b7b9-4775faa7799b",
   "metadata": {},
   "outputs": [],
   "source": [
    "2. Create a program that takes a sentence from the user and counts the\n",
    "number of vowels (a, e, i, o, u) in the string."
   ]
  },
  {
   "cell_type": "code",
   "execution_count": 19,
   "id": "5d20f2c1-5c00-4ebf-8608-df7b7a905aff",
   "metadata": {},
   "outputs": [
    {
     "name": "stdin",
     "output_type": "stream",
     "text": [
      "Enter a sentence : SSForever\n"
     ]
    },
    {
     "name": "stdout",
     "output_type": "stream",
     "text": [
      "3\n"
     ]
    }
   ],
   "source": [
    "string2 = input(\"Enter a sentence :\")\n",
    "print(sum(string2.count(vowel) for vowel in \"aeiou\"))"
   ]
  },
  {
   "cell_type": "code",
   "execution_count": null,
   "id": "870180c0-2c31-4d54-80de-d27d33c6bfc0",
   "metadata": {},
   "outputs": [],
   "source": [
    "3. Given a string, reverse the order of characters using string slicing and\n",
    "print the reversed string."
   ]
  },
  {
   "cell_type": "code",
   "execution_count": 17,
   "id": "c0e647b6-824b-47e9-804e-2506a188e93b",
   "metadata": {},
   "outputs": [
    {
     "name": "stdin",
     "output_type": "stream",
     "text": [
      "Enter a string : ss1203\n"
     ]
    },
    {
     "data": {
      "text/plain": [
       "'3021ss'"
      ]
     },
     "execution_count": 17,
     "metadata": {},
     "output_type": "execute_result"
    }
   ],
   "source": [
    "string1 = input(\"Enter a string :\")\n",
    "string1[::-1]"
   ]
  },
  {
   "cell_type": "code",
   "execution_count": null,
   "id": "3b75828a-2936-4708-8f44-7e7cf388614f",
   "metadata": {},
   "outputs": [],
   "source": [
    "4. Write a program that takes a string as input and checks if it is a\n",
    "palindrome (reads the same forwards and backwards)."
   ]
  },
  {
   "cell_type": "code",
   "execution_count": 24,
   "id": "0d4fe6a3-b200-4c45-810c-b8bf0e003466",
   "metadata": {},
   "outputs": [
    {
     "name": "stdin",
     "output_type": "stream",
     "text": [
      "Enter a string : malayalam\n"
     ]
    },
    {
     "name": "stdout",
     "output_type": "stream",
     "text": [
      "Given string is a palindrome.\n"
     ]
    }
   ],
   "source": [
    "string3 = input(\"Enter a string :\")\n",
    "revstring3 = string3[::-1]\n",
    "if revstring3 == string3:\n",
    "    print(\"Given string is a palindrome.\")\n",
    "else:\n",
    "    print(\"Given string is not a palindrome.\")"
   ]
  },
  {
   "cell_type": "code",
   "execution_count": null,
   "id": "256a8533-a540-42cd-b98b-3e550e2793ac",
   "metadata": {},
   "outputs": [],
   "source": [
    "5. Create a program that takes a string as input and removes all the\n",
    "spaces from it. Print the modified string without spaces."
   ]
  },
  {
   "cell_type": "code",
   "execution_count": 26,
   "id": "5bb79f8f-c734-4354-8982-361e45f78cab",
   "metadata": {},
   "outputs": [
    {
     "name": "stdin",
     "output_type": "stream",
     "text": [
      "Enter a string : s s 1 2 0 3\n"
     ]
    },
    {
     "name": "stdout",
     "output_type": "stream",
     "text": [
      "The new string without spaces is : ss1203\n"
     ]
    }
   ],
   "source": [
    "string4 = input(\"Enter a string :\")\n",
    "newstring4 = ''.join(string4.split())\n",
    "print(\"The new string without spaces is :\", newstring4)"
   ]
  },
  {
   "cell_type": "code",
   "execution_count": null,
   "id": "628df86e-e0d9-41b2-8b97-58a9df0d2d51",
   "metadata": {},
   "outputs": [],
   "source": [
    "------------------------------------------------------------------------------------------------------------------------------"
   ]
  },
  {
   "cell_type": "code",
   "execution_count": null,
   "id": "ae1083f6-92d0-4073-a161-91be902d614d",
   "metadata": {},
   "outputs": [],
   "source": []
  },
  {
   "cell_type": "code",
   "execution_count": null,
   "id": "9988e902-f37d-45f0-b177-f014a35ef081",
   "metadata": {},
   "outputs": [],
   "source": []
  },
  {
   "cell_type": "code",
   "execution_count": null,
   "id": "7019d71d-0e76-4f4a-98df-6bd84785761e",
   "metadata": {},
   "outputs": [],
   "source": []
  },
  {
   "cell_type": "code",
   "execution_count": null,
   "id": "b123ef37-3165-4f82-9989-f6b340947d9a",
   "metadata": {},
   "outputs": [],
   "source": []
  },
  {
   "cell_type": "code",
   "execution_count": null,
   "id": "9ecb3573-692b-4204-bb14-ece628ab6dd9",
   "metadata": {},
   "outputs": [],
   "source": []
  },
  {
   "cell_type": "code",
   "execution_count": null,
   "id": "d65877a1-0809-49fc-a01d-7baf2be9da81",
   "metadata": {},
   "outputs": [],
   "source": []
  },
  {
   "cell_type": "code",
   "execution_count": null,
   "id": "19ff2445-733b-45a5-8ba3-0002be5e5fa6",
   "metadata": {},
   "outputs": [],
   "source": []
  },
  {
   "cell_type": "code",
   "execution_count": null,
   "id": "e5b20902-33d7-4b51-8d94-6173213e06b4",
   "metadata": {},
   "outputs": [],
   "source": []
  },
  {
   "cell_type": "code",
   "execution_count": null,
   "id": "faf36d25-2e06-4a9e-bc98-2a4c71c757ff",
   "metadata": {},
   "outputs": [],
   "source": []
  }
 ],
 "metadata": {
  "kernelspec": {
   "display_name": "Python 3 (ipykernel)",
   "language": "python",
   "name": "python3"
  },
  "language_info": {
   "codemirror_mode": {
    "name": "ipython",
    "version": 3
   },
   "file_extension": ".py",
   "mimetype": "text/x-python",
   "name": "python",
   "nbconvert_exporter": "python",
   "pygments_lexer": "ipython3",
   "version": "3.10.8"
  }
 },
 "nbformat": 4,
 "nbformat_minor": 5
}
